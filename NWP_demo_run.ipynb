{
  "nbformat": 4,
  "nbformat_minor": 0,
  "metadata": {
    "colab": {
      "name": "NWP_demo_run.ipynb",
      "provenance": []
    },
    "kernelspec": {
      "name": "python3",
      "display_name": "Python 3"
    },
    "language_info": {
      "name": "python"
    }
  },
  "cells": [
    {
      "cell_type": "code",
      "metadata": {
        "id": "5r5cCiYb7U7K"
      },
      "source": [
        "import tensorflow as tf\n",
        "from keras.preprocessing.sequence import pad_sequences\n",
        "from keras.preprocessing.text import Tokenizer\n",
        "import pickle"
      ],
      "execution_count": 1,
      "outputs": []
    },
    {
      "cell_type": "code",
      "metadata": {
        "colab": {
          "base_uri": "https://localhost:8080/"
        },
        "id": "UIz-8H3V66z2",
        "outputId": "b6176e9a-3d44-4e0c-bf91-1ecf48263d4a"
      },
      "source": [
        "! git clone https://github.com/Ather-Ashraf/NWP_BiLSTM"
      ],
      "execution_count": 2,
      "outputs": [
        {
          "output_type": "stream",
          "text": [
            "Cloning into 'NWP_BiLSTM'...\n",
            "remote: Enumerating objects: 14, done.\u001b[K\n",
            "remote: Counting objects: 100% (14/14), done.\u001b[K\n",
            "remote: Compressing objects: 100% (10/10), done.\u001b[K\n",
            "remote: Total 14 (delta 3), reused 9 (delta 2), pack-reused 0\u001b[K\n",
            "Unpacking objects: 100% (14/14), done.\n"
          ],
          "name": "stdout"
        }
      ]
    },
    {
      "cell_type": "code",
      "metadata": {
        "id": "xjpJkT6s7N5F"
      },
      "source": [
        "model=tf.keras.models.load_model(\"/content/NWP_BiLSTM/NWP_BILSTM.h5\")"
      ],
      "execution_count": 3,
      "outputs": []
    },
    {
      "cell_type": "code",
      "metadata": {
        "id": "MHp_wMe79kAE"
      },
      "source": [
        "infile = open(\"/content/NWP_BiLSTM/token\",'rb')\n",
        "tokenizer = pickle.load(infile)\n",
        "infile.close()"
      ],
      "execution_count": 5,
      "outputs": []
    },
    {
      "cell_type": "code",
      "metadata": {
        "colab": {
          "base_uri": "https://localhost:8080/"
        },
        "id": "C8mB591s7hUJ",
        "outputId": "def12263-e92c-4200-f55a-b55bee7fc18b"
      },
      "source": [
        "input_text = input().strip().lower()\n",
        "encoded_text = tokenizer.texts_to_sequences([input_text])[0]\n",
        "pad_encoded = pad_sequences([encoded_text], maxlen=3, truncating='pre')\n",
        "print(encoded_text, pad_encoded)\n",
        "for i in (model.predict(pad_encoded)[0]).argsort()[-3:][::-1]:\n",
        "    pred_word = tokenizer.index_word[i]\n",
        "    print(\"Next word suggestion:\",pred_word)"
      ],
      "execution_count": 6,
      "outputs": [
        {
          "output_type": "stream",
          "text": [
            "i have a\n",
            "[12, 46, 4] [[12 46  4]]\n",
            "Next word suggestion: garden\n",
            "Next word suggestion: philistine\n",
            "Next word suggestion: little\n"
          ],
          "name": "stdout"
        }
      ]
    }
  ]
}